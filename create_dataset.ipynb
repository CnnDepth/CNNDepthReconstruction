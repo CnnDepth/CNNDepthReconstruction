{
 "cells": [
  {
   "cell_type": "code",
   "execution_count": 1,
   "metadata": {},
   "outputs": [],
   "source": [
    "from multiprocessing import Lock, Pool"
   ]
  },
  {
   "cell_type": "code",
   "execution_count": 2,
   "metadata": {},
   "outputs": [],
   "source": [
    "mutex = Lock()"
   ]
  },
  {
   "cell_type": "code",
   "execution_count": 3,
   "metadata": {},
   "outputs": [
    {
     "name": "stdout",
     "output_type": "stream",
     "text": [
      "poop\n"
     ]
    }
   ],
   "source": [
    "mutex.acquire()\n",
    "print('poop')\n",
    "mutex.release()"
   ]
  },
  {
   "cell_type": "code",
   "execution_count": 20,
   "metadata": {},
   "outputs": [],
   "source": [
    "%reload_ext autoreload\n",
    "%autoreload 2\n",
    "from create_dataset import create_hdf5_dataset"
   ]
  },
  {
   "cell_type": "code",
   "execution_count": 21,
   "metadata": {},
   "outputs": [],
   "source": [
    "import warnings\n",
    "warnings.filterwarnings('ignore')"
   ]
  },
  {
   "cell_type": "code",
   "execution_count": 22,
   "metadata": {},
   "outputs": [
    {
     "name": "stdout",
     "output_type": "stream",
     "text": [
      "Extracting images...\n",
      "Done.\n",
      "Processing images...\n"
     ]
    },
    {
     "data": {
      "application/vnd.jupyter.widget-view+json": {
       "model_id": "5f7124a8f48e4b9f98518cc93b0a70d8",
       "version_major": 2,
       "version_minor": 0
      },
      "text/plain": [
       "HBox(children=(IntProgress(value=0, max=96), HTML(value=u'')))"
      ]
     },
     "metadata": {},
     "output_type": "display_data"
    },
    {
     "name": "stdout",
     "output_type": "stream",
     "text": [
      "\n",
      "Done\n",
      "('RGB data shape:', (96, 3, 427, 561))\n",
      "('Depth data shape:', (96, 427, 561))\n"
     ]
    }
   ],
   "source": [
    "create_hdf5_dataset(['../Data/cafe'], '../dataset.hdf5', data_percent=5)"
   ]
  },
  {
   "cell_type": "code",
   "execution_count": 7,
   "metadata": {},
   "outputs": [],
   "source": [
    "from skimage.io import imread, imsave"
   ]
  },
  {
   "cell_type": "code",
   "execution_count": 15,
   "metadata": {},
   "outputs": [],
   "source": [
    "import os\n",
    "DATA_DIR = '../Data/basements/basement_0001a'\n",
    "filenames = list(os.walk(DATA_DIR))[0][-1]\n",
    "rgb_filename = filenames[0]\n",
    "depth_filename = filenames[5]"
   ]
  },
  {
   "cell_type": "code",
   "execution_count": 16,
   "metadata": {},
   "outputs": [
    {
     "name": "stdout",
     "output_type": "stream",
     "text": [
      "((480, 640, 3), (480, 640))\n"
     ]
    }
   ],
   "source": [
    "rgb_img = imread(os.path.join(DATA_DIR, rgb_filename))\n",
    "depth_img = imread(os.path.join(DATA_DIR, depth_filename))\n",
    "print(rgb_img.shape, depth_img.shape)"
   ]
  },
  {
   "cell_type": "code",
   "execution_count": 17,
   "metadata": {},
   "outputs": [],
   "source": [
    "import numpy as np\n",
    "filename = str(np.random.randint(0, 1e12, 1)[0])\n",
    "depth_filename = \"../tmp/depth_\" + filename + \".png\"\n",
    "rgb_filename = \"../tmp/rgb_\" + filename + \".png\"\n",
    "imsave(depth_filename, depth_img)\n",
    "imsave(rgb_filename, rgb_img)"
   ]
  },
  {
   "cell_type": "code",
   "execution_count": 18,
   "metadata": {},
   "outputs": [
    {
     "name": "stdout",
     "output_type": "stream",
     "text": [
      "../tmp/depth_72724771130.png\n",
      "../tmp/rgb_72724771130.png\n"
     ]
    }
   ],
   "source": [
    "print(depth_filename)\n",
    "print(rgb_filename)"
   ]
  },
  {
   "cell_type": "code",
   "execution_count": 19,
   "metadata": {
    "scrolled": true
   },
   "outputs": [
    {
     "data": {
      "text/plain": [
       "0"
      ]
     },
     "execution_count": 19,
     "metadata": {},
     "output_type": "execute_result"
    }
   ],
   "source": [
    "run_script_cmd = \"octave ./project_depth_map.m\"\n",
    "os.system(' '.join([run_script_cmd, depth_filename, rgb_filename, depth_filename, rgb_filename]))"
   ]
  },
  {
   "cell_type": "code",
   "execution_count": null,
   "metadata": {},
   "outputs": [],
   "source": [
    "import h5py\n",
    "f = h5py.File(\"../NYU_dataset_part.hdf5\", \"r\")\n",
    "depths = f[\"Depth\"]\n",
    "rgbs = f[\"RGB\"]\n",
    "print(depths.shape)\n",
    "print(rgbs.shape)"
   ]
  },
  {
   "cell_type": "code",
   "execution_count": null,
   "metadata": {
    "scrolled": false
   },
   "outputs": [],
   "source": [
    "import matplotlib.pyplot as plt\n",
    "%matplotlib inline\n",
    "import numpy as np"
   ]
  },
  {
   "cell_type": "code",
   "execution_count": null,
   "metadata": {},
   "outputs": [],
   "source": [
    "plt.figure(figsize=(20, 10))\n",
    "plt.subplot(1, 2, 1)\n",
    "plt.imshow(np.transpose(rgbs[500], [1, 2, 0]))\n",
    "plt.subplot(1, 2, 2)\n",
    "plt.imshow(depths[500], cmap='rainbow')\n",
    "plt.savefig('../rgb_depth_match.png')"
   ]
  },
  {
   "cell_type": "code",
   "execution_count": null,
   "metadata": {},
   "outputs": [],
   "source": [
    "processedDepths[0].shape"
   ]
  },
  {
   "cell_type": "code",
   "execution_count": null,
   "metadata": {},
   "outputs": [],
   "source": [
    "from skimage.io import imread\n",
    "from skimage.transform import resize\n",
    "import numpy as np\n",
    "from tqdm import tqdm\n",
    "processedRGBs = []\n",
    "processedDepths = []\n",
    "for i in tqdm(range(1150)):\n",
    "    rgb = imread(\"../tmp/rgb_\" + str(i) + \".png\")\n",
    "    depth = imread(\"../tmp/depth_\" + str(i) + \".png\")\n",
    "    rgb = resize(rgb, (240, 320, 3))\n",
    "    depth = resize(depth, (240, 320))\n",
    "    rgb = rgb.astype(np.float32)\n",
    "    depth = depth * 10.\n",
    "    processedRGBs.append(np.transpose(rgb, [2, 0, 1]))\n",
    "    processedDepths.append(depth)"
   ]
  },
  {
   "cell_type": "code",
   "execution_count": null,
   "metadata": {},
   "outputs": [],
   "source": [
    "processedRGBs[0].shape"
   ]
  },
  {
   "cell_type": "code",
   "execution_count": null,
   "metadata": {},
   "outputs": [],
   "source": [
    "processedDepths[0].shape"
   ]
  },
  {
   "cell_type": "code",
   "execution_count": null,
   "metadata": {},
   "outputs": [],
   "source": [
    "processedRGBs = np.array(processedRGBs)\n",
    "processedDepths = np.array(processedDepths)"
   ]
  },
  {
   "cell_type": "code",
   "execution_count": null,
   "metadata": {
    "scrolled": true
   },
   "outputs": [],
   "source": [
    "import h5py\n",
    "with h5py.File(\"./NYU_dataset_part.hdf5\", \"w\") as f:\n",
    "    f.create_dataset(\"RGB\", data=processedRGBs)\n",
    "    f.create_dataset(\"Depth\", data=processedDepths)"
   ]
  },
  {
   "cell_type": "code",
   "execution_count": null,
   "metadata": {
    "scrolled": true
   },
   "outputs": [],
   "source": [
    "print(processedRGBs.shape, processedDepths.shape)"
   ]
  },
  {
   "cell_type": "code",
   "execution_count": null,
   "metadata": {},
   "outputs": [],
   "source": [
    "from skimage.io import imread\n",
    "depth = imread(\"../tmp/depth_0.png\")\n",
    "rgb = imread(\"../tmp/rgb_0.png\")"
   ]
  },
  {
   "cell_type": "code",
   "execution_count": null,
   "metadata": {},
   "outputs": [],
   "source": [
    "i = 200\n",
    "depth = processedDepths[i]\n",
    "rgb = np.transpose(processedRGBs[i], [1, 2, 0])"
   ]
  },
  {
   "cell_type": "code",
   "execution_count": null,
   "metadata": {},
   "outputs": [],
   "source": [
    "depth.shape"
   ]
  },
  {
   "cell_type": "code",
   "execution_count": null,
   "metadata": {},
   "outputs": [],
   "source": [
    "rgb.shape"
   ]
  },
  {
   "cell_type": "code",
   "execution_count": null,
   "metadata": {},
   "outputs": [],
   "source": [
    "depth.max()"
   ]
  },
  {
   "cell_type": "code",
   "execution_count": null,
   "metadata": {},
   "outputs": [],
   "source": [
    "import matplotlib.pyplot as plt\n",
    "%matplotlib inline"
   ]
  },
  {
   "cell_type": "code",
   "execution_count": null,
   "metadata": {},
   "outputs": [],
   "source": [
    "plt.figure(figsize=(20, 10))\n",
    "plt.subplot(1, 2, 1)\n",
    "plt.imshow(rgb)\n",
    "plt.subplot(1, 2, 2)\n",
    "plt.imshow(depth, cmap='rainbow')\n",
    "plt.savefig(\"./rgb_depth_match.png\")"
   ]
  },
  {
   "cell_type": "code",
   "execution_count": null,
   "metadata": {},
   "outputs": [],
   "source": [
    "from skimage.io import imsave\n",
    "imsave(\"./rgb.png\", rgb)\n",
    "imsave(\"./depth.png\", depth)"
   ]
  },
  {
   "cell_type": "code",
   "execution_count": null,
   "metadata": {
    "scrolled": false
   },
   "outputs": [],
   "source": [
    "depth[280][70]"
   ]
  },
  {
   "cell_type": "code",
   "execution_count": null,
   "metadata": {},
   "outputs": [],
   "source": []
  }
 ],
 "metadata": {
  "kernelspec": {
   "display_name": "CNN_VSLAM",
   "language": "python",
   "name": "cnn_vslam"
  },
  "language_info": {
   "codemirror_mode": {
    "name": "ipython",
    "version": 2
   },
   "file_extension": ".py",
   "mimetype": "text/x-python",
   "name": "python",
   "nbconvert_exporter": "python",
   "pygments_lexer": "ipython2",
   "version": "2.7.15"
  }
 },
 "nbformat": 4,
 "nbformat_minor": 2
}
